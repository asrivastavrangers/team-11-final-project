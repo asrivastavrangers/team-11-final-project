{
  "cells": [
    {
      "cell_type": "code",
      "execution_count": 1,
      "id": "97c04201",
      "metadata": {
        "colab": {
          "base_uri": "https://localhost:8080/"
        },
        "id": "97c04201",
        "outputId": "cd95b3b3-074e-4459-f984-9f5706a3635b"
      },
      "outputs": [
        {
          "output_type": "execute_result",
          "data": {
            "text/plain": [
              "<torch._C.Generator at 0x7c4bff292150>"
            ]
          },
          "metadata": {},
          "execution_count": 1
        }
      ],
      "source": [
        "# Group Members: Abhay, Aditya, Sukani\n",
        "# Optimized and Refactored Version\n",
        "import os\n",
        "import numpy as np\n",
        "import pandas as pd\n",
        "import matplotlib.pyplot as plt\n",
        "import seaborn as sns\n",
        "import torch\n",
        "import torch.nn as nn\n",
        "import torch.optim as optim\n",
        "from torch.utils.data import DataLoader\n",
        "from sklearn.metrics import confusion_matrix\n",
        "\n",
        "import warnings\n",
        "warnings.filterwarnings('ignore')\n",
        "\n",
        "# Set random seed\n",
        "np.random.seed(23)\n",
        "torch.manual_seed(23)"
      ]
    },
    {
      "cell_type": "code",
      "source": [
        "from google.colab import drive\n",
        "drive.mount('/content/drive')"
      ],
      "metadata": {
        "colab": {
          "base_uri": "https://localhost:8080/"
        },
        "id": "pRzH0kz--40M",
        "outputId": "6de9fa78-e0f2-480c-be0c-6dda406ed331"
      },
      "id": "pRzH0kz--40M",
      "execution_count": 2,
      "outputs": [
        {
          "output_type": "stream",
          "name": "stdout",
          "text": [
            "Mounted at /content/drive\n"
          ]
        }
      ]
    },
    {
      "cell_type": "code",
      "execution_count": 3,
      "id": "5c0c8f05",
      "metadata": {
        "id": "5c0c8f05"
      },
      "outputs": [],
      "source": [
        "# Load preprocessed datasets and label encoder\n",
        "tensor_dir = '/content/drive/MyDrive/AAI-511/preprocess'\n",
        "train_dataset = torch.load(f'{tensor_dir}/train_dataset.pt', weights_only=False)\n",
        "val_dataset = torch.load(f'{tensor_dir}/val_dataset.pt', weights_only=False)\n",
        "test_dataset = torch.load(f'{tensor_dir}/test_dataset.pt', weights_only=False)\n",
        "label_encoder_classes = np.load(f'{tensor_dir}/label_encoder_classes.npy', allow_pickle=True)\n",
        "input_size = train_dataset.tensors[0].shape[2]\n",
        "num_classes = len(label_encoder_classes)"
      ]
    },
    {
      "cell_type": "code",
      "execution_count": 4,
      "id": "821d506d",
      "metadata": {
        "id": "821d506d"
      },
      "outputs": [],
      "source": [
        "# Create DataLoaders\n",
        "batch_size = 32\n",
        "train_loader = DataLoader(train_dataset, batch_size=batch_size, shuffle=True)\n",
        "val_loader = DataLoader(val_dataset, batch_size=batch_size)\n",
        "test_loader = DataLoader(test_dataset, batch_size=batch_size)"
      ]
    },
    {
      "cell_type": "code",
      "execution_count": 5,
      "id": "c88e9685",
      "metadata": {
        "id": "c88e9685"
      },
      "outputs": [],
      "source": [
        "class LSTMClassifier(nn.Module):\n",
        "    def __init__(self, input_size, hidden_size, num_layers, num_classes):\n",
        "        super().__init__()\n",
        "        self.lstm = nn.LSTM(input_size, hidden_size, num_layers, batch_first=True)\n",
        "        self.fc = nn.Linear(hidden_size, num_classes)\n",
        "\n",
        "    def forward(self, x):\n",
        "        h0 = torch.zeros(self.lstm.num_layers, x.size(0), self.lstm.hidden_size).to(x.device)\n",
        "        c0 = torch.zeros(self.lstm.num_layers, x.size(0), self.lstm.hidden_size).to(x.device)\n",
        "        out, _ = self.lstm(x, (h0, c0))\n",
        "        return self.fc(out[:, -1, :])"
      ]
    },
    {
      "cell_type": "code",
      "execution_count": 6,
      "id": "cc7cc6b5",
      "metadata": {
        "id": "cc7cc6b5"
      },
      "outputs": [],
      "source": [
        "class CNNClassifier(nn.Module):\n",
        "    def __init__(self, input_size, num_classes):\n",
        "        super().__init__()\n",
        "        self.conv1 = nn.Conv1d(input_size, 64, kernel_size=3, padding=1)\n",
        "        self.pool1 = nn.MaxPool1d(kernel_size=2)\n",
        "        self.conv2 = nn.Conv1d(64, 128, kernel_size=3, padding=1)\n",
        "        self.pool2 = nn.MaxPool1d(kernel_size=2)\n",
        "        self.flatten = nn.Flatten()\n",
        "        dummy_input = torch.randn(1, 100, input_size).permute(0, 2, 1)\n",
        "        dummy_out = self.pool2(self.conv2(self.pool1(self.conv1(dummy_input))))\n",
        "        flatten_dim = dummy_out.shape[1] * dummy_out.shape[2]\n",
        "        self.fc1 = nn.Linear(flatten_dim, 128)\n",
        "        self.fc2 = nn.Linear(128, num_classes)\n",
        "\n",
        "    def forward(self, x):\n",
        "        x = x.permute(0, 2, 1)\n",
        "        x = self.pool1(torch.relu(self.conv1(x)))\n",
        "        x = self.pool2(torch.relu(self.conv2(x)))\n",
        "        x = self.flatten(x)\n",
        "        x = torch.relu(self.fc1(x))\n",
        "        return self.fc2(x)"
      ]
    },
    {
      "cell_type": "code",
      "execution_count": 7,
      "id": "24c8b505",
      "metadata": {
        "id": "24c8b505"
      },
      "outputs": [],
      "source": [
        "def train(model, loader, criterion, optimizer, epochs=20):\n",
        "    model.train()\n",
        "    for epoch in range(epochs):\n",
        "        total_loss = 0\n",
        "        for x, y in loader:\n",
        "            optimizer.zero_grad()\n",
        "            loss = criterion(model(x), y)\n",
        "            loss.backward()\n",
        "            optimizer.step()\n",
        "            total_loss += loss.item()\n",
        "        print(f\"Epoch {epoch+1}/{epochs}, Loss: {total_loss/len(loader):.4f}\")\n",
        "\n",
        "def evaluate(model, loader):\n",
        "    model.eval()\n",
        "    correct, total = 0, 0\n",
        "    with torch.no_grad():\n",
        "        for x, y in loader:\n",
        "            preds = model(x).argmax(dim=1)\n",
        "            correct += (preds == y).sum().item()\n",
        "            total += y.size(0)\n",
        "    return 100 * correct / total"
      ]
    },
    {
      "cell_type": "code",
      "execution_count": 8,
      "id": "a90a2d54",
      "metadata": {
        "id": "a90a2d54"
      },
      "outputs": [],
      "source": [
        "def plot_confusion_matrix(model, loader, labels, title):\n",
        "    y_true, y_pred = [], []\n",
        "    model.eval()\n",
        "    with torch.no_grad():\n",
        "        for x, y in loader:\n",
        "            preds = model(x).argmax(dim=1)\n",
        "            y_true.extend(y.cpu().numpy())\n",
        "            y_pred.extend(preds.cpu().numpy())\n",
        "    cm = confusion_matrix(y_true, y_pred)\n",
        "    plt.figure(figsize=(8, 6))\n",
        "    sns.heatmap(cm, annot=True, fmt='d', cmap='Blues', xticklabels=labels, yticklabels=labels)\n",
        "    plt.xlabel('Predicted')\n",
        "    plt.ylabel('True')\n",
        "    plt.title(title)\n",
        "    plt.show()"
      ]
    },
    {
      "cell_type": "code",
      "source": [
        "# Print the number of batches in each loader\n",
        "print(f\"Number of batches in train_loader: {len(train_loader)}\")\n",
        "print(f\"Number of batches in val_loader: {len(val_loader)}\")\n",
        "print(f\"Number of batches in test_loader: {len(test_loader)}\")"
      ],
      "metadata": {
        "colab": {
          "base_uri": "https://localhost:8080/"
        },
        "id": "ZVMv8QLi_U69",
        "outputId": "41dff343-0377-4864-a79e-7cf4302c1949"
      },
      "id": "ZVMv8QLi_U69",
      "execution_count": 9,
      "outputs": [
        {
          "output_type": "stream",
          "name": "stdout",
          "text": [
            "Number of batches in train_loader: 11\n",
            "Number of batches in val_loader: 2\n",
            "Number of batches in test_loader: 3\n"
          ]
        }
      ]
    },
    {
      "cell_type": "code",
      "source": [
        "hidden_size = 128\n",
        "num_layers = 2\n",
        "lstm_model = LSTMClassifier(input_size, hidden_size, num_layers, num_classes)\n",
        "print(lstm_model)"
      ],
      "metadata": {
        "colab": {
          "base_uri": "https://localhost:8080/"
        },
        "id": "3KM936CyzN7b",
        "outputId": "3e1f5381-d25d-4832-fc41-627307284e45"
      },
      "id": "3KM936CyzN7b",
      "execution_count": 12,
      "outputs": [
        {
          "output_type": "stream",
          "name": "stdout",
          "text": [
            "LSTMClassifier(\n",
            "  (lstm): LSTM(3, 128, num_layers=2, batch_first=True)\n",
            "  (fc): Linear(in_features=128, out_features=4, bias=True)\n",
            ")\n"
          ]
        }
      ]
    },
    {
      "cell_type": "code",
      "source": [
        "cnn_model = CNNClassifier(input_size, num_classes)\n",
        "print(cnn_model)"
      ],
      "metadata": {
        "colab": {
          "base_uri": "https://localhost:8080/"
        },
        "id": "o5ugHd8JzV07",
        "outputId": "7c80663a-be0d-424d-9a8e-41302454c1ee"
      },
      "id": "o5ugHd8JzV07",
      "execution_count": 13,
      "outputs": [
        {
          "output_type": "stream",
          "name": "stdout",
          "text": [
            "CNNClassifier(\n",
            "  (conv1): Conv1d(3, 64, kernel_size=(3,), stride=(1,), padding=(1,))\n",
            "  (pool1): MaxPool1d(kernel_size=2, stride=2, padding=0, dilation=1, ceil_mode=False)\n",
            "  (conv2): Conv1d(64, 128, kernel_size=(3,), stride=(1,), padding=(1,))\n",
            "  (pool2): MaxPool1d(kernel_size=2, stride=2, padding=0, dilation=1, ceil_mode=False)\n",
            "  (flatten): Flatten(start_dim=1, end_dim=-1)\n",
            "  (fc1): Linear(in_features=3200, out_features=128, bias=True)\n",
            "  (fc2): Linear(in_features=128, out_features=4, bias=True)\n",
            ")\n"
          ]
        }
      ]
    },
    {
      "cell_type": "code",
      "source": [
        "criterion = nn.CrossEntropyLoss()\n",
        "lstm_optimizer = optim.Adam(lstm_model.parameters(), lr=0.001)\n",
        "num_epochs = 20\n",
        "train(lstm_model, train_loader, criterion, lstm_optimizer, epochs=num_epochs)"
      ],
      "metadata": {
        "colab": {
          "base_uri": "https://localhost:8080/"
        },
        "id": "2mDhhtzQ0Mjy",
        "outputId": "49928090-9059-4a1c-a394-fc1994c30a21"
      },
      "id": "2mDhhtzQ0Mjy",
      "execution_count": 21,
      "outputs": [
        {
          "output_type": "stream",
          "name": "stdout",
          "text": [
            "Epoch 1/20, Loss: 1.0953\n",
            "Epoch 2/20, Loss: 1.0375\n",
            "Epoch 3/20, Loss: 1.0643\n",
            "Epoch 4/20, Loss: 1.0398\n",
            "Epoch 5/20, Loss: 1.0467\n",
            "Epoch 6/20, Loss: 1.0163\n",
            "Epoch 7/20, Loss: 1.0082\n",
            "Epoch 8/20, Loss: 0.9904\n",
            "Epoch 9/20, Loss: 1.0060\n",
            "Epoch 10/20, Loss: 0.9736\n",
            "Epoch 11/20, Loss: 0.9954\n",
            "Epoch 12/20, Loss: 1.0191\n",
            "Epoch 13/20, Loss: 0.9647\n",
            "Epoch 14/20, Loss: 0.9587\n",
            "Epoch 15/20, Loss: 0.9662\n",
            "Epoch 16/20, Loss: 0.9611\n",
            "Epoch 17/20, Loss: 0.9705\n",
            "Epoch 18/20, Loss: 0.9616\n",
            "Epoch 19/20, Loss: 0.9582\n",
            "Epoch 20/20, Loss: 0.9301\n"
          ]
        }
      ]
    },
    {
      "cell_type": "code",
      "source": [
        "lstm_val_accuracy = evaluate(lstm_model, val_loader)\n",
        "print(f'Validation Accuracy: {lstm_val_accuracy:.2f}%')\n",
        "lstm_test_accuracy = evaluate(lstm_model, test_loader)\n",
        "print(f'Test Accuracy of LSTM model: {lstm_test_accuracy:.2f}%')"
      ],
      "metadata": {
        "colab": {
          "base_uri": "https://localhost:8080/"
        },
        "id": "_L6qv6JV0--K",
        "outputId": "6988afa5-f37c-4fa6-9a06-29226eca772a"
      },
      "id": "_L6qv6JV0--K",
      "execution_count": 23,
      "outputs": [
        {
          "output_type": "stream",
          "name": "stdout",
          "text": [
            "Validation Accuracy: 54.17%\n",
            "Test Accuracy of LSTM model: 60.42%\n"
          ]
        }
      ]
    },
    {
      "cell_type": "code",
      "source": [
        "plot_confusion_matrix(lstm_model, test_loader, label_encoder_classes, 'Confusion Matrix - LSTM')"
      ],
      "metadata": {
        "colab": {
          "base_uri": "https://localhost:8080/",
          "height": 564
        },
        "id": "levl20gf3P5c",
        "outputId": "2cac18b2-82d9-402c-866d-5d8659aa26ed"
      },
      "id": "levl20gf3P5c",
      "execution_count": 25,
      "outputs": [
        {
          "output_type": "display_data",
          "data": {
            "text/plain": [
              "<Figure size 800x600 with 2 Axes>"
            ],
            "image/png": "[encoded data removed]"
          },
          "metadata": {}
        }
      ]
    },
    {
      "cell_type": "code",
      "source": [
        "cnn_optimizer = optim.Adam(cnn_model.parameters(), lr=0.001)\n",
        "train(cnn_model,train_loader, criterion, cnn_optimizer, epochs=num_epochs)"
      ],
      "metadata": {
        "colab": {
          "base_uri": "https://localhost:8080/"
        },
        "id": "74-Fk6Ri1MYV",
        "outputId": "cc3f8390-9d1a-4154-aea1-6585c63a8d64"
      },
      "id": "74-Fk6Ri1MYV",
      "execution_count": 19,
      "outputs": [
        {
          "output_type": "stream",
          "name": "stdout",
          "text": [
            "Epoch 1/20, Loss: 8.3172\n",
            "Epoch 2/20, Loss: 1.3529\n",
            "Epoch 3/20, Loss: 1.2151\n",
            "Epoch 4/20, Loss: 1.1484\n",
            "Epoch 5/20, Loss: 1.0662\n",
            "Epoch 6/20, Loss: 1.1287\n",
            "Epoch 7/20, Loss: 1.0704\n",
            "Epoch 8/20, Loss: 1.0697\n",
            "Epoch 9/20, Loss: 0.9962\n",
            "Epoch 10/20, Loss: 0.9040\n",
            "Epoch 11/20, Loss: 0.9232\n",
            "Epoch 12/20, Loss: 0.8717\n",
            "Epoch 13/20, Loss: 0.7970\n",
            "Epoch 14/20, Loss: 0.8170\n",
            "Epoch 15/20, Loss: 0.8264\n",
            "Epoch 16/20, Loss: 0.7913\n",
            "Epoch 17/20, Loss: 0.7817\n",
            "Epoch 18/20, Loss: 0.8157\n",
            "Epoch 19/20, Loss: 0.7064\n",
            "Epoch 20/20, Loss: 0.6494\n"
          ]
        }
      ]
    },
    {
      "cell_type": "code",
      "source": [
        "cnn_val_accuracy = evaluate(cnn_model, val_loader)\n",
        "print(f'Validation Accuracy: {cnn_val_accuracy:.2f}%')\n",
        "# Evaluate the model on the test set\n",
        "cnn_test_accuracy = evaluate(cnn_model, test_loader)\n",
        "print(f'Test Accuracy of CNN model: {cnn_test_accuracy:.2f}%')"
      ],
      "metadata": {
        "colab": {
          "base_uri": "https://localhost:8080/"
        },
        "id": "o8w0E9tI1oRb",
        "outputId": "4be628e0-d437-4f28-f8ab-75f6f20e81f4"
      },
      "id": "o8w0E9tI1oRb",
      "execution_count": 24,
      "outputs": [
        {
          "output_type": "stream",
          "name": "stdout",
          "text": [
            "Validation Accuracy: 54.17%\n",
            "Test Accuracy of CNN model: 51.04%\n"
          ]
        }
      ]
    },
    {
      "cell_type": "code",
      "source": [
        "plot_confusion_matrix(cnn_model, test_loader, label_encoder_classes, 'Confusion Matrix - CNN')"
      ],
      "metadata": {
        "colab": {
          "base_uri": "https://localhost:8080/",
          "height": 564
        },
        "id": "-gk-808D1xvC",
        "outputId": "8d0804f9-18e9-468f-d8a3-c0575e401a45"
      },
      "id": "-gk-808D1xvC",
      "execution_count": 26,
      "outputs": [
        {
          "output_type": "display_data",
          "data": {
            "text/plain": [
              "<Figure size 800x600 with 2 Axes>"
            ],
            "image/png": "[encoded data removed]"
          },
          "metadata": {}
        }
      ]
    },
    {
      "cell_type": "code",
      "source": [],
      "metadata": {
        "id": "xAakU-b-3bkK"
      },
      "id": "xAakU-b-3bkK",
      "execution_count": null,
      "outputs": []
    }
  ],
  "metadata": {
    "colab": {
      "provenance": []
    },
    "language_info": {
      "name": "python"
    },
    "kernelspec": {
      "name": "python3",
      "display_name": "Python 3"
    }
  },
  "nbformat": 4,
  "nbformat_minor": 5
}